{
 "cells": [
  {
   "cell_type": "code",
   "execution_count": null,
   "metadata": {},
   "outputs": [],
   "source": [
    "import pandas as pd\n",
    "import os\n",
    "import pandas as pd\n",
    "\n",
    "# กำหนดคอลัมน์ตามตาราง gis_vector (ยกเว้น embedding)\n",
    "columns = [\n",
    "    \"ca_number\",\n",
    "    \"pea_number\",\n",
    "    \"customer_name\",\n",
    "    \"customer_address\",\n",
    "    \"office_code\",\n",
    "    \"lat\",\n",
    "    \"long\",\n",
    "    \"billing_month\"\n",
    "]\n",
    "\n",
    "def main(input_file: str):\n",
    "    output_file = input_file.replace(\".TXT\", \".csv\")    # ไฟล์ CSV ที่ต้องการบันทึก\n",
    "\n",
    "    # อ่านไฟล์ .TXT\n",
    "    df = pd.read_csv(\n",
    "        input_file,\n",
    "        sep=\"|\",\n",
    "        header=None,\n",
    "        dtype=str,\n",
    "        encoding=\"cp874\",   # ใช้ cp874 (windows-874) ถ้าอ่านไม่ได้ลอง \"tis-620\"\n",
    "        on_bad_lines=\"skip\",\n",
    "        engine=\"python\"\n",
    "    )\n",
    "\n",
    "    # เลือกเฉพาะคอลัมน์ที่ต้องใช้ (ตามลำดับ)\n",
    "    df = df.iloc[:, [1, 0, 9, 10, 4, 2, 3, 8]]\n",
    "    df.columns = columns\n",
    "\n",
    "    # ลบค่าว่าง\n",
    "    df = df.dropna()\n",
    "\n",
    "    # ตัดช่องว่างซ้ายขวาออกทุก field\n",
    "    df = df.applymap(lambda x: x.strip() if isinstance(x, str) else x)\n",
    "\n",
    "    # แปลง lat/long เป็นตัวเลข\n",
    "    df[\"lat\"] = pd.to_numeric(df[\"lat\"], errors=\"coerce\")\n",
    "    df[\"long\"] = pd.to_numeric(df[\"long\"], errors=\"coerce\")\n",
    "\n",
    "    # ลบแถวที่ไม่มี ca_number (Primary Key)\n",
    "    df = df[df[\"ca_number\"].notna() & (df[\"ca_number\"] != \"\")]\n",
    "\n",
    "    # ลบแถวที่มี ca_number ซ้ํา\n",
    "    df_cleaned = df.drop_duplicates(subset=\"ca_number\", keep=\"first\").copy()  # <- add .copy()\n",
    "\n",
    "    # บันทึกเป็น CSV\n",
    "    df_cleaned.to_csv(output_file, index=False, encoding=\"utf-8-sig\")\n",
    "    print(f\"✅ Data cleaned and saved to {output_file}\")\n",
    "\n",
    "if __name__ == \"__main__\":\n",
    "    folder_name = 'gis_data'\n",
    "    print(os.listdir(folder_name))\n",
    "    for file in os.listdir(folder_name):\n",
    "        if file.endswith(\".TXT\"):\n",
    "            main(os.path.join(folder_name, file))\n",
    "            # break"
   ]
  },
  {
   "cell_type": "markdown",
   "metadata": {},
   "source": [
    "# DONE\n",
    "\n",
    "---"
   ]
  },
  {
   "cell_type": "code",
   "execution_count": null,
   "metadata": {},
   "outputs": [],
   "source": [
    "import pandas as pd\n",
    "\n",
    "df = pd.read_csv('gis_data/GIS_A_202507.csv')\n",
    "\n",
    "df.head()"
   ]
  },
  {
   "cell_type": "code",
   "execution_count": null,
   "metadata": {},
   "outputs": [],
   "source": [
    "df.count()\n",
    "\n",
    "# สมมติ df คือ DataFrame ของคุณ\n",
    "full_count = len(df)  # 2054512 ตามตัวอย่าง\n",
    "\n",
    "for col in df.columns:\n",
    "    non_missing = df[col].notna().sum()  # จำนวนค่าที่ไม่ว่าง\n",
    "    missing = full_count - non_missing   # จำนวนค่าที่ขาด\n",
    "    print(f\"{col:20} Non-missing: {non_missing:10}  Missing: {missing:10}\")"
   ]
  }
 ],
 "metadata": {
  "kernelspec": {
   "display_name": ".venv",
   "language": "python",
   "name": "python3"
  },
  "language_info": {
   "codemirror_mode": {
    "name": "ipython",
    "version": 3
   },
   "file_extension": ".py",
   "mimetype": "text/x-python",
   "name": "python",
   "nbconvert_exporter": "python",
   "pygments_lexer": "ipython3",
   "version": "3.11.13"
  }
 },
 "nbformat": 4,
 "nbformat_minor": 2
}
