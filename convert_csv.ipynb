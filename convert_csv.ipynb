{
 "cells": [
  {
   "cell_type": "code",
   "execution_count": 9,
   "metadata": {},
   "outputs": [
    {
     "name": "stdout",
     "output_type": "stream",
     "text": [
      "['GIS_A_202507.TXT', 'GIS_B_202507.TXT', 'GIS_C_202507.TXT', 'GIS_D_202507.TXT', 'GIS_E_202507.TXT', 'GIS_F_202507.TXT', 'GIS_G_202507.TXT', 'GIS_H_202507.TXT', 'GIS_I_202507.TXT', 'GIS_J_202507.TXT', 'GIS_K_202507.TXT']\n"
     ]
    },
    {
     "name": "stderr",
     "output_type": "stream",
     "text": [
      "C:\\Users\\502872\\AppData\\Local\\Temp\\5\\ipykernel_14300\\3878859204.py:32: FutureWarning: DataFrame.applymap has been deprecated. Use DataFrame.map instead.\n",
      "  df = df.applymap(lambda x: x.strip() if isinstance(x, str) else x)\n"
     ]
    },
    {
     "name": "stdout",
     "output_type": "stream",
     "text": [
      "✅ Data cleaned and saved to gis_data\\GIS_A_202507.csv\n"
     ]
    }
   ],
   "source": [
    "import pandas as pd\n",
    "import os\n",
    "import pandas as pd\n",
    "\n",
    "# กำหนดคอลัมน์ตามตาราง gis_vector (ยกเว้น embedding)\n",
    "columns = [\n",
    "    \"ca_number\",\n",
    "    \"pea_number\",\n",
    "    \"customer_name\",\n",
    "    \"customer_address\",\n",
    "    \"office_code\",\n",
    "    \"lat\",\n",
    "    \"long\",\n",
    "    \"billing_month\"\n",
    "]\n",
    "\n",
    "def main(input_file: str):\n",
    "    output_file = input_file.replace(\".TXT\", \".csv\")    # ไฟล์ CSV ที่ต้องการบันทึก\n",
    "\n",
    "    # อ่านไฟล์ .TXT\n",
    "    df = pd.read_csv(\n",
    "        input_file,\n",
    "        sep=\"|\",\n",
    "        header=None,\n",
    "        dtype=str,\n",
    "        encoding=\"cp874\",   # ใช้ cp874 (windows-874) ถ้าอ่านไม่ได้ลอง \"tis-620\"\n",
    "        on_bad_lines=\"skip\",\n",
    "        engine=\"python\"\n",
    "    )\n",
    "\n",
    "    # ตัดช่องว่างซ้ายขวาออกทุก field\n",
    "    df = df.applymap(lambda x: x.strip() if isinstance(x, str) else x)\n",
    "\n",
    "    # เลือกเฉพาะคอลัมน์ที่ต้องใช้ (ตามลำดับ)\n",
    "    df = df.iloc[:, [1, 0, 9, 10, 4, 2, 3, 6]]\n",
    "    df.columns = columns\n",
    "\n",
    "    # แปลง lat/long เป็นตัวเลข\n",
    "    df[\"lat\"] = pd.to_numeric(df[\"lat\"], errors=\"coerce\")\n",
    "    df[\"long\"] = pd.to_numeric(df[\"long\"], errors=\"coerce\")\n",
    "\n",
    "    # ลบแถวที่ไม่มี ca_number (Primary Key)\n",
    "    df = df[df[\"ca_number\"].notna() & (df[\"ca_number\"] != \"\")]\n",
    "\n",
    "    # บันทึกเป็น CSV\n",
    "    df.to_csv(output_file, index=False, encoding=\"utf-8-sig\")\n",
    "    print(f\"✅ Data cleaned and saved to {output_file}\")\n",
    "\n",
    "if __name__ == \"__main__\":\n",
    "    folder_name = 'gis_data'\n",
    "    print(os.listdir(folder_name))\n",
    "    for file in os.listdir(folder_name):\n",
    "        if file.endswith(\".TXT\"):\n",
    "            main(os.path.join(folder_name, file))\n",
    "            break"
   ]
  }
 ],
 "metadata": {
  "kernelspec": {
   "display_name": ".venv",
   "language": "python",
   "name": "python3"
  },
  "language_info": {
   "codemirror_mode": {
    "name": "ipython",
    "version": 3
   },
   "file_extension": ".py",
   "mimetype": "text/x-python",
   "name": "python",
   "nbconvert_exporter": "python",
   "pygments_lexer": "ipython3",
   "version": "3.11.13"
  }
 },
 "nbformat": 4,
 "nbformat_minor": 2
}
